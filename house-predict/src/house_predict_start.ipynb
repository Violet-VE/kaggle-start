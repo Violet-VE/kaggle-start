{
 "cells": [
  {
   "cell_type": "markdown",
   "metadata": {},
   "source": [
    "# House Predict Start"
   ]
  },
  {
   "cell_type": "code",
   "execution_count": 40,
<<<<<<< HEAD
   "metadata": {
    "collapsed": true
   },
=======
   "metadata": {},
>>>>>>> a725bb7d5fd9ef617e5516df313da7c12c54d1bb
   "outputs": [],
   "source": [
    "#\n",
    "# import libariry\n",
    "#\n",
    "import numpy as np\n",
    "import pandas as pd\n",
    "\n",
    "from sklearn.metrics import r2_score\n",
    "from sklearn.model_selection import cross_val_score\n",
    "from sklearn.model_selection import GridSearchCV"
   ]
  },
  {
   "cell_type": "markdown",
   "metadata": {},
   "source": [
    "## 1.Load data and data preprocess"
   ]
  },
  {
   "cell_type": "code",
   "execution_count": 2,
<<<<<<< HEAD
   "metadata": {
    "collapsed": true
   },
=======
   "metadata": {},
>>>>>>> a725bb7d5fd9ef617e5516df313da7c12c54d1bb
   "outputs": [],
   "source": [
    "def load_data():\n",
    "    train = pd.read_csv('../input/train.csv')\n",
    "    test = pd.read_csv('../input/test.csv')\n",
    "    sample = pd.read_csv('../input/sample_submission.csv')\n",
    "    \n",
    "    return train, test, sample"
   ]
  },
  {
   "cell_type": "markdown",
   "metadata": {},
   "source": [
    "train shape:(1460, 81)\n",
    "\n",
    "test shape:(1459, 80)\n",
    "\n",
    "sample shape:(1459, 2)\n",
    "\n",
    "train dtypes: float64(3), int64(35), object(43)\n",
    "\n",
    "test dtypes: float64(11), int64(26), object(43)"
   ]
  },
  {
   "cell_type": "code",
   "execution_count": 3,
<<<<<<< HEAD
   "metadata": {
    "collapsed": false
   },
=======
   "metadata": {},
>>>>>>> a725bb7d5fd9ef617e5516df313da7c12c54d1bb
   "outputs": [
    {
     "name": "stdout",
     "output_type": "stream",
     "text": [
      "((1460, 81), (1459, 80), (1459, 2))\n"
     ]
    }
   ],
   "source": [
    "train, test, sample = load_data()\n",
    "\n",
    "def clearn_data(data):\n",
    "    for c in data.columns:\n",
    "        data[c] = data[c].fillna(-1)\n",
    "        if data[c].dtypes == 'float64':\n",
    "            data[c] = data[c].astype(np.float32)\n",
    "    return data\n",
    "\n",
    "train = clearn_data(train)\n",
    "test = clearn_data(test)    \n",
    "\n",
    "print(train.shape, test.shape, sample.shape)"
   ]
  },
  {
   "cell_type": "markdown",
   "metadata": {},
   "source": [
    "## 2.Feature Engineering"
   ]
  },
  {
   "cell_type": "code",
   "execution_count": 4,
<<<<<<< HEAD
   "metadata": {
    "collapsed": false
   },
=======
   "metadata": {},
>>>>>>> a725bb7d5fd9ef617e5516df313da7c12c54d1bb
   "outputs": [
    {
     "name": "stdout",
     "output_type": "stream",
     "text": [
      "['Id', 'MSSubClass', 'LotArea', 'OverallQual', 'OverallCond', 'YearBuilt', 'YearRemodAdd', 'BsmtFinSF1', 'BsmtFinSF2', 'BsmtUnfSF', 'TotalBsmtSF', '1stFlrSF', '2ndFlrSF', 'LowQualFinSF', 'GrLivArea', 'BsmtFullBath', 'BsmtHalfBath', 'FullBath', 'HalfBath', 'BedroomAbvGr', 'KitchenAbvGr', 'TotRmsAbvGrd', 'Fireplaces', 'GarageCars', 'GarageArea', 'WoodDeckSF', 'OpenPorchSF', 'EnclosedPorch', '3SsnPorch', 'ScreenPorch', 'PoolArea', 'MiscVal', 'MoSold', 'YrSold', 'SalePrice']\n"
     ]
    }
   ],
   "source": [
    "# feature select\n",
    "features = []\n",
    "for c in train.columns:\n",
    "    if train[c].dtypes == 'int':\n",
    "        features.append(c)\n",
    "\n",
    "print(features)\n",
    "\n",
    "x_train = train[features]\n",
    "x_train = x_train.drop(['Id', 'SalePrice'], axis=1)\n",
    "y_train = train['SalePrice']\n",
    "\n",
    "x_test = test[x_train.columns]"
   ]
  },
  {
   "cell_type": "markdown",
   "metadata": {},
   "source": [
    "## 3.Model Ensemble"
   ]
  },
  {
   "cell_type": "markdown",
   "metadata": {},
   "source": [
    "**RandomForestRegressor**"
   ]
  },
  {
   "cell_type": "code",
   "execution_count": 94,
<<<<<<< HEAD
   "metadata": {
    "collapsed": false
   },
=======
   "metadata": {},
>>>>>>> a725bb7d5fd9ef617e5516df313da7c12c54d1bb
   "outputs": [
    {
     "name": "stdout",
     "output_type": "stream",
     "text": [
      "(<function _passthrough_scorer at 0x7fc96ff7f9b0>, {}, 0.8413066185753254)\n",
      "RF model score:0.858018201381\n",
      "<bound method RandomForestRegressor.score of RandomForestRegressor(bootstrap=True, criterion='mse', max_depth=17,\n",
      "           max_features='auto', max_leaf_nodes=None,\n",
      "           min_impurity_split=1e-07, min_samples_leaf=1,\n",
      "           min_samples_split=2, min_weight_fraction_leaf=0.0,\n",
      "           n_estimators=20, n_jobs=-1, oob_score=True, random_state=None,\n",
      "           verbose=0, warm_start=False)>\n"
     ]
    }
   ],
   "source": [
    "from sklearn.ensemble import RandomForestRegressor\n",
    "\n",
    "# rf model\n",
    "rf_params = {}\n",
    "rf_params['n_estimators'] = 20 \n",
    "rf_params['max_depth'] = 17 # 2 -> 0.66\n",
    "#rf_params['max_features'] = 'sqrt' # 1-> 0.399\n",
    "#rf_params['min_samples_split'] = 10\n",
    "#rf_params['min_samples_leaf'] = 20\n",
    "#rf_params['max_leaf_nodes'] = 18\n",
    "rf_params['oob_score'] = True\n",
    "rf_params['n_jobs'] = -1\n",
    "\n",
    "rf_param = {\n",
    "    #min_samples_leaf': range(5, 20, 5),\n",
    "    #'min_samples_split': range(10, 50, 10)\n",
    "}\n",
    "\n",
    "rf_model = RandomForestRegressor(**rf_params)\n",
    "\n",
    "#\n",
    "# Grid Search\n",
    "#\n",
    "grid_search = GridSearchCV(estimator=rf_model, param_grid=rf_param, cv=5)\n",
    "grid_search.fit(x_train, y_train)\n",
    "print(grid_search.best_params_, grid_search.best_score_)\n",
    "\n",
    "rf_model_score = cross_val_score(rf_model, x_train, y_train, cv=10).mean()\n",
    "print(\"RF model score:{}\".format(rf_model_score))\n",
    "print(rf_model.score)\n",
    "\n",
    "rf_model.fit(x_train, y_train)\n",
    "rf_pre = rf_model.predict(x_test)"
   ]
  },
  {
   "cell_type": "markdown",
   "metadata": {},
   "source": [
    "**XGBRegresser**"
   ]
  },
  {
   "cell_type": "code",
   "execution_count": 109,
<<<<<<< HEAD
   "metadata": {
    "collapsed": false
   },
=======
   "metadata": {},
>>>>>>> a725bb7d5fd9ef617e5516df313da7c12c54d1bb
   "outputs": [
    {
     "name": "stdout",
     "output_type": "stream",
     "text": [
      "({}, 0.88223089268776989)\n",
      "XGB model score:0.882230892688\n",
      "<bound method XGBRegressor.score of XGBRegressor(base_score=0.5, colsample_bylevel=1, colsample_bytree=1, gamma=0,\n",
      "       learning_rate=0.07, max_delta_step=0, max_depth=4,\n",
      "       min_child_weight=3, missing=None, n_estimators=400, nthread=-1,\n",
      "       objective='reg:linear', reg_alpha=0, reg_lambda=1,\n",
      "       scale_pos_weight=1, seed=0, silent=True, subsample=1)>\n"
     ]
    }
   ],
   "source": [
    "from xgboost import XGBRegressor\n",
    "\n",
    "# xgb params\n",
    "xgb_params = {}\n",
    "xgb_params['n_estimators'] = 400\n",
    "xgb_params['max_depth'] = 4\n",
    "xgb_params['learning_rate'] = 0.07\n",
    "xgb_params['min_child_weight'] = 3\n",
    "\n",
    "xgb_param = {\n",
    "    #'n_estimators': range(50, 1000, 50),\n",
    "    #'min_child_weight': range(1, 10, 1)\n",
    "}\n",
    "\n",
    "xgb_model = XGBRegressor(**xgb_params)\n",
    "\n",
    "#\n",
    "# Grid Search\n",
    "#\n",
    "grid_search = GridSearchCV(estimator=xgb_model, param_grid=xgb_param, cv=5)\n",
    "grid_search.fit(x_train, y_train)\n",
    "print(grid_search.best_params_, grid_search.best_score_)\n",
    "\n",
    "#\n",
    "# cross_val_score\n",
    "#\n",
    "xgb_model_score = cross_val_score(xgb_model, x_train, y_train, cv=5).mean()\n",
    "print(\"XGB model score:{}\".format(xgb_model_score))\n",
    "print(xgb_model.score)"
   ]
  },
  {
   "cell_type": "markdown",
   "metadata": {},
   "source": [
    "## Submit"
   ]
  },
  {
   "cell_type": "code",
   "execution_count": 88,
<<<<<<< HEAD
   "metadata": {
    "collapsed": false
   },
=======
   "metadata": {},
>>>>>>> a725bb7d5fd9ef617e5516df313da7c12c54d1bb
   "outputs": [],
   "source": [
    "from datetime import datetime\n",
    "sample['SalePrice'] = rf_pre\n",
    "\n",
    "submit_file = '../sub/{}.csv'.format(datetime.now().strftime('%Y%m%d_%H_%M'))\n",
    "sample.to_csv(submit_file, index=False,  float_format='%.4f')"
   ]
  },
  {
   "cell_type": "code",
   "execution_count": null,
<<<<<<< HEAD
   "metadata": {
    "collapsed": true
   },
   "outputs": [],
   "source": []
=======
   "metadata": {},
   "outputs": [],
   "source": [
    ""
   ]
>>>>>>> a725bb7d5fd9ef617e5516df313da7c12c54d1bb
  }
 ],
 "metadata": {
  "kernelspec": {
   "display_name": "Python 2",
   "language": "python",
   "name": "python2"
  },
  "language_info": {
   "codemirror_mode": {
    "name": "ipython",
<<<<<<< HEAD
    "version": 2
=======
    "version": 2.0
>>>>>>> a725bb7d5fd9ef617e5516df313da7c12c54d1bb
   },
   "file_extension": ".py",
   "mimetype": "text/x-python",
   "name": "python",
   "nbconvert_exporter": "python",
   "pygments_lexer": "ipython2",
   "version": "2.7.13"
  }
 },
 "nbformat": 4,
 "nbformat_minor": 2
<<<<<<< HEAD
}
=======
}
>>>>>>> a725bb7d5fd9ef617e5516df313da7c12c54d1bb
